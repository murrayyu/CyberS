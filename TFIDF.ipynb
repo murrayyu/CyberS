{
 "cells": [
  {
   "cell_type": "code",
   "execution_count": 1,
   "metadata": {
    "collapsed": true
   },
   "outputs": [],
   "source": [
    "import pandas as pd\n",
    "import nltk\n",
    "from nltk import FreqDist\n",
    "import csv\n",
    "from string import punctuation\n",
    "import sys\n",
    "\n",
    "import os\n",
    "from sklearn import feature_extraction\n",
    "from sklearn.feature_extraction.text import TfidfTransformer\n",
    "from sklearn.feature_extraction.text import CountVectorizer"
   ]
  },
  {
   "cell_type": "code",
   "execution_count": 2,
   "metadata": {
    "collapsed": true
   },
   "outputs": [],
   "source": [
    "df = open('C:/Users/Zihao/Desktop/Qatar.txt', 'r')\n",
    "raw1 = df.read()"
   ]
  },
  {
   "cell_type": "code",
   "execution_count": 3,
   "metadata": {
    "collapsed": true
   },
   "outputs": [],
   "source": [
    "df2 = open('C:/Users/Zihao/Desktop/Countries/UnitedStates2.txt','r')\n",
    "raw2 = df2.read()"
   ]
  },
  {
   "cell_type": "code",
   "execution_count": 4,
   "metadata": {
    "collapsed": true
   },
   "outputs": [],
   "source": [
    "df3 = open('C:/Users/Zihao/Desktop/Countries/UK2.txt', 'r')\n",
    "raw3 = df3.read()"
   ]
  },
  {
   "cell_type": "code",
   "execution_count": 5,
   "metadata": {
    "collapsed": true
   },
   "outputs": [],
   "source": [
    "df4 = open('C:/Users/Zihao/Desktop/Countries/UK1.txt', 'r')\n",
    "raw4 = df4.read()"
   ]
  },
  {
   "cell_type": "code",
   "execution_count": 7,
   "metadata": {
    "collapsed": true
   },
   "outputs": [],
   "source": [
    "raw1 = raw1.replace('\\n',' ')\n",
    "raw2 = raw2.replace('\\n',' ')\n",
    "raw3 = raw3.replace('\\n',' ')\n",
    "raw4 = raw4.replace('\\n',' ')"
   ]
  },
  {
   "cell_type": "code",
   "execution_count": null,
   "metadata": {
    "collapsed": true
   },
   "outputs": [],
   "source": [
    "if __name__ == \"__main__\":  \n",
    "    corpus = [raw, raw2]\n",
    "    \n",
    "    vectorizer = CountVectorizer()\n",
    "    transformer = TfidfTransformer()\n",
    "    tfidf = transformer.fit_transform(vectorizer.fit_transform(corpus))\n",
    "    word = vectorizer.get_feature_names()\n",
    "    weight = tfidf.toarray()\n",
    "    with open ('RAW.csv','a') as outfile:\n",
    "        for i in range(len(weight)):\n",
    "            print ('-------The TFIDF values in document',i,u'------------')\n",
    "            for j in range(len(word)):  \n",
    "                print(word[j],weight[i][j])\n",
    "                outfile.write(word[j] + ',' + str(weight[i][j]) + '\\n')\n",
    "            "
   ]
  }
 ],
 "metadata": {
  "kernelspec": {
   "display_name": "Python 3",
   "language": "python",
   "name": "python3"
  },
  "language_info": {
   "codemirror_mode": {
    "name": "ipython",
    "version": 3
   },
   "file_extension": ".py",
   "mimetype": "text/x-python",
   "name": "python",
   "nbconvert_exporter": "python",
   "pygments_lexer": "ipython3",
   "version": "3.6.1"
  }
 },
 "nbformat": 4,
 "nbformat_minor": 2
}
